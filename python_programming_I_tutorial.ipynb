{
  "cells": [
    {
      "cell_type": "markdown",
      "id": "721e8e09",
      "metadata": {
        "id": "721e8e09"
      },
      "source": [
        "# W3 D2 Python Basics I\n",
        "Instructor: Steve Mitchell"
      ]
    },
    {
      "cell_type": "markdown",
      "id": "f3b9ef84",
      "metadata": {
        "id": "f3b9ef84"
      },
      "source": [
        "### Agenda\n",
        "\n",
        "- Syntax\n",
        "- Data Types\n",
        "- For Loops\n",
        "- While Loops\n",
        "- Control Flow (If and Else Statements)\n",
        "\n",
        "We're mainly going to focus on the core operations, the ones that you will use most often. There is much, much more that you can do with all of the different data types in Python.\n",
        "\n",
        "There's a lot here so it may seem pretty dry, but it will be useful for you going forward as a quick Python cheatsheet.\n"
      ]
    },
    {
      "cell_type": "markdown",
      "id": "c8d5f940",
      "metadata": {
        "id": "c8d5f940"
      },
      "source": [
        "### Whitespace\n",
        "- Python programs are organized with one statement per line.\n",
        "- Each statement occupies one line, and is separated by a line break.\n",
        "- Some code blocks (loops, functions, etc) are created with indents.\n"
      ]
    },
    {
      "cell_type": "markdown",
      "id": "d0076afb",
      "metadata": {
        "id": "d0076afb"
      },
      "source": [
        "#### Separating statements\n",
        "\n",
        "rust uses semicolons:\n",
        "```rust\n",
        "// addition\n",
        "add = 5 + 6;\n",
        "// subtraction\n",
        "sub = 1 - 2;\n",
        "```\n",
        "\n",
        "lisp uses parentheses:\n",
        "```lisp\n",
        ";addition\n",
        "(setq add (+ 5 6))\n",
        ";subtraction\n",
        "(setq sub (- 1 2))\n",
        "```\n",
        "\n",
        "python uses **line breaks**:\n",
        "```python\n",
        "# addition\n",
        "add = 5 + 6\n",
        "# subtraction\n",
        "sub = 1 - 2\n",
        "```\n",
        "\n",
        "```MySQL\n",
        "SELECT *\n",
        "FROM order_details\n",
        "```"
      ]
    },
    {
      "cell_type": "markdown",
      "id": "f7476cc8",
      "metadata": {
        "id": "f7476cc8"
      },
      "source": [
        "#### Code blocks/functions\n",
        "javascript uses braces (curly brackets):\n",
        "```javascript\n",
        "function mult(num1, num2) {\n",
        "\treturn num1 * num2;\n",
        "}\n",
        "```\n",
        "\n",
        "python uses **indents**:\n",
        "```python\n",
        "def mult(num1, num2):\n",
        "\treturn num1 * num2\n",
        "```"
      ]
    },
    {
      "cell_type": "markdown",
      "id": "55f2aa64",
      "metadata": {
        "id": "55f2aa64"
      },
      "source": [
        "### Variables\n",
        "\n",
        "- Variables are names that we give to objects that we store something in.\n",
        "\n",
        "**Why use Variables?**\n",
        "- Helps organize our code.\n",
        "- Store data.\n",
        "- Reuse data again and again."
      ]
    },
    {
      "cell_type": "code",
      "execution_count": 124,
      "id": "b6f98cf0",
      "metadata": {
        "id": "b6f98cf0"
      },
      "outputs": [],
      "source": [
        "var_info = 'variables hold data. assign them with the = sign'"
      ]
    },
    {
      "cell_type": "code",
      "execution_count": null,
      "id": "WFnezqwJfysI",
      "metadata": {
        "colab": {
          "base_uri": "https://localhost:8080/"
        },
        "id": "WFnezqwJfysI",
        "outputId": "5b3f69ec-e26a-498a-f474-66d5b2a615da"
      },
      "outputs": [],
      "source": [
        "print(var_info)"
      ]
    },
    {
      "cell_type": "code",
      "execution_count": null,
      "id": "frJoca_wR69s",
      "metadata": {
        "colab": {
          "base_uri": "https://localhost:8080/",
          "height": 36
        },
        "id": "frJoca_wR69s",
        "outputId": "d4e83a71-6dda-4fc2-9bc6-39aea4bc495d"
      },
      "outputs": [],
      "source": [
        "var_info"
      ]
    },
    {
      "cell_type": "markdown",
      "id": "a4c9110c",
      "metadata": {},
      "source": [
        "- Students often wonder when to use quotations (strings) and when not to (variables, keyword arguments, reserved words).\n",
        "```python\n",
        "\tvariable = \"text\"\n",
        "```\n",
        "- Variable on the left, string on the right."
      ]
    },
    {
      "cell_type": "markdown",
      "id": "c30a22ad",
      "metadata": {
        "id": "c30a22ad"
      },
      "source": [
        "### Built in Data Types - Values and Objects\n",
        "\n",
        "- Values: pieces of data that a computer program works with, such as a number or text.\n",
        "- We will assign a lot of these values to objects (variables) with the assignment operator `=`.\n",
        "- These values will always belong to a data type, just like in SQL.\n",
        "\n",
        "\n",
        "Here are some data types built-in to the Python language:\n",
        "\n",
        "* Integers - `int`\n",
        "* Floating-point numbers - `float`\n",
        "* Strings - `str`\n",
        "* Booleans - `bool` - two values: True and False.\n",
        "* Lists - `list`\n",
        "* Tuples - `tuple`\n",
        "* Sets - `set`\n",
        "* Dictionaries - `dict`\n",
        "\n",
        "\n",
        "\n"
      ]
    },
    {
      "cell_type": "markdown",
      "id": "7863f294",
      "metadata": {
        "id": "7863f294"
      },
      "source": [
        "### Integers & Floats"
      ]
    },
    {
      "cell_type": "code",
      "execution_count": 134,
      "id": "56fe21d7",
      "metadata": {
        "id": "56fe21d7"
      },
      "outputs": [],
      "source": [
        "a = 4"
      ]
    },
    {
      "cell_type": "code",
      "execution_count": 135,
      "id": "dc736a8f",
      "metadata": {
        "id": "dc736a8f"
      },
      "outputs": [],
      "source": [
        "b = 4.0"
      ]
    },
    {
      "cell_type": "code",
      "execution_count": 137,
      "id": "b3c89d8a",
      "metadata": {
        "colab": {
          "base_uri": "https://localhost:8080/"
        },
        "id": "b3c89d8a",
        "outputId": "c74a1ca2-16ec-4375-a643-0226de3a361e"
      },
      "outputs": [
        {
          "data": {
            "text/plain": [
              "int"
            ]
          },
          "execution_count": 137,
          "metadata": {},
          "output_type": "execute_result"
        }
      ],
      "source": [
        "# use the type() function to check the type of variable a\n",
        "type(a)"
      ]
    },
    {
      "cell_type": "code",
      "execution_count": 138,
      "id": "46a3089f",
      "metadata": {
        "colab": {
          "base_uri": "https://localhost:8080/"
        },
        "id": "46a3089f",
        "outputId": "1ed809b1-ae6c-48e0-e9a7-ce21123c8fe1"
      },
      "outputs": [
        {
          "data": {
            "text/plain": [
              "float"
            ]
          },
          "execution_count": 138,
          "metadata": {},
          "output_type": "execute_result"
        }
      ],
      "source": [
        "# use the type() function to check the type of variable b\n",
        "type(b)"
      ]
    },
    {
      "cell_type": "code",
      "execution_count": 139,
      "id": "o79NpXxEs_C6",
      "metadata": {
        "colab": {
          "base_uri": "https://localhost:8080/"
        },
        "id": "o79NpXxEs_C6",
        "outputId": "77fa62e4-b3df-410b-d3af-22cbea11691c"
      },
      "outputs": [
        {
          "data": {
            "text/plain": [
              "str"
            ]
          },
          "execution_count": 139,
          "metadata": {},
          "output_type": "execute_result"
        }
      ],
      "source": [
        "# use the type() function to check the type of variable var_info\n",
        "type(var_info)"
      ]
    },
    {
      "cell_type": "markdown",
      "id": "0b0c5b2c",
      "metadata": {
        "id": "0b0c5b2c"
      },
      "source": [
        "### Arithmetic with Variables"
      ]
    },
    {
      "cell_type": "code",
      "execution_count": 143,
      "id": "0f7087ff",
      "metadata": {
        "colab": {
          "base_uri": "https://localhost:8080/"
        },
        "id": "0f7087ff",
        "outputId": "777d14f0-3c0b-4547-d22e-10b74f04a004"
      },
      "outputs": [
        {
          "data": {
            "text/plain": [
              "(-7269.311336607268+2361.942431312854j)"
            ]
          },
          "execution_count": 143,
          "metadata": {},
          "output_type": "execute_result"
        }
      ],
      "source": [
        "a = -2\n",
        "b = 12.9\n",
        "\n",
        "# Arithmetic\n",
        "c = a + 1    # Arithmetic with literals and variables\n",
        "c = a + b    # Arithmetic with just variables\n",
        "c = c + a    # c becomes its old value + a\n",
        "c += a       # same thing with different notation\n",
        "c = a - b    # Subtraction\n",
        "c = a * b    # Multiplication\n",
        "c = b / a    # Division\n",
        "c = (a + b) * 2 - a    # Compound calculations - PEMDAS\n",
        "c = b // a   # floor division\n",
        "c = 9%2      # remainder\n",
        "c = a ** b   # exponents\n",
        "\n",
        "c"
      ]
    },
    {
      "cell_type": "code",
      "execution_count": 146,
      "id": "gnvORCj9gQ2v",
      "metadata": {
        "colab": {
          "base_uri": "https://localhost:8080/"
        },
        "id": "gnvORCj9gQ2v",
        "outputId": "af4a7cf2-e396-4740-cf05-fdb9937bf7e5"
      },
      "outputs": [
        {
          "data": {
            "text/plain": [
              "2.54"
            ]
          },
          "execution_count": 146,
          "metadata": {},
          "output_type": "execute_result"
        }
      ],
      "source": [
        "# round 2.543 to have 2 decimals\n",
        "round(2.543, 2)"
      ]
    },
    {
      "cell_type": "code",
      "execution_count": 154,
      "id": "TN-7dGefsbBC",
      "metadata": {
        "colab": {
          "base_uri": "https://localhost:8080/"
        },
        "id": "TN-7dGefsbBC",
        "outputId": "f598ab33-c941-47f0-f7a1-1b2cbbfc6e6e"
      },
      "outputs": [
        {
          "data": {
            "text/plain": [
              "2"
            ]
          },
          "execution_count": 154,
          "metadata": {},
          "output_type": "execute_result"
        }
      ],
      "source": [
        "# interesting case: round 2.5\n",
        "round(2.5)"
      ]
    },
    {
      "cell_type": "markdown",
      "id": "996dd237",
      "metadata": {
        "id": "996dd237"
      },
      "source": [
        "#### Type Casting ints and floats"
      ]
    },
    {
      "cell_type": "code",
      "execution_count": 149,
      "id": "63d07b45",
      "metadata": {
        "colab": {
          "base_uri": "https://localhost:8080/"
        },
        "id": "63d07b45",
        "outputId": "ee8ad486-02fd-4983-a31d-71aa8560cb2b"
      },
      "outputs": [
        {
          "data": {
            "text/plain": [
              "float"
            ]
          },
          "execution_count": 149,
          "metadata": {},
          "output_type": "execute_result"
        }
      ],
      "source": [
        "# cast int to float\n",
        "float(3)"
      ]
    },
    {
      "cell_type": "code",
      "execution_count": 150,
      "id": "xCp3x_yBgOAm",
      "metadata": {
        "colab": {
          "base_uri": "https://localhost:8080/"
        },
        "id": "xCp3x_yBgOAm",
        "outputId": "1725e693-dc56-411c-8162-0813fe231e63"
      },
      "outputs": [
        {
          "data": {
            "text/plain": [
              "3"
            ]
          },
          "execution_count": 150,
          "metadata": {},
          "output_type": "execute_result"
        }
      ],
      "source": [
        "# cast float to int\n",
        "int(3.0)"
      ]
    },
    {
      "cell_type": "code",
      "execution_count": 155,
      "id": "5dcNspRxKT7p",
      "metadata": {
        "colab": {
          "base_uri": "https://localhost:8080/"
        },
        "id": "5dcNspRxKT7p",
        "outputId": "46343d26-8319-4c8d-a493-2d10ec218b41"
      },
      "outputs": [
        {
          "data": {
            "text/plain": [
              "4"
            ]
          },
          "execution_count": 155,
          "metadata": {},
          "output_type": "execute_result"
        }
      ],
      "source": [
        "round(3.9)"
      ]
    },
    {
      "cell_type": "code",
      "execution_count": 157,
      "id": "385f245b",
      "metadata": {},
      "outputs": [
        {
          "data": {
            "text/plain": [
              "3"
            ]
          },
          "execution_count": 157,
          "metadata": {},
          "output_type": "execute_result"
        }
      ],
      "source": [
        "round(3.49)"
      ]
    },
    {
      "cell_type": "markdown",
      "id": "8085d0da",
      "metadata": {
        "id": "8085d0da"
      },
      "source": [
        "### Strings"
      ]
    },
    {
      "cell_type": "code",
      "execution_count": 164,
      "id": "3f5d27bb",
      "metadata": {
        "colab": {
          "base_uri": "https://localhost:8080/"
        },
        "id": "3f5d27bb",
        "outputId": "6952946b-e6dd-4db7-9814-3b6137617c4b"
      },
      "outputs": [
        {
          "name": "stdout",
          "output_type": "stream",
          "text": [
            "hello, how are you?\n"
          ]
        }
      ],
      "source": [
        "# Strings are a sequence of symbols in quotes\n",
        "# Without the quotes, Python tries to interpret text as variable names\n",
        "\n",
        "a = \"IMAGINATION is more important than knowledge\"\n",
        "\n",
        "\n",
        "# Strings can contain any symbols, not just letters\n",
        "b = 'The Meaning of Life is 42.'\n",
        "\n",
        "c = '''this\n",
        "is a\n",
        "multiline'''\n",
        "\n",
        "\n",
        "# single, double, triple single, and triple double quotes\n",
        "\n",
        "# Concatenation (combining)\n",
        "d = a + \", but not as important as learning to code.\"\n",
        "\n",
        "\n",
        "# Functions on strings\n",
        "# Note: these functions don't change the original variables.\n",
        "# They return copies with the function applied\n",
        "e = b.upper()\n",
        "f = b.lower()\n",
        "g = b.capitalize()\n",
        "\n",
        "print('Hello, how are you?'.lower())"
      ]
    },
    {
      "cell_type": "code",
      "execution_count": 167,
      "id": "4dQ8d_khKsVS",
      "metadata": {
        "colab": {
          "base_uri": "https://localhost:8080/",
          "height": 36
        },
        "id": "4dQ8d_khKsVS",
        "outputId": "6545f25a-445f-4633-c339-e5af7e690399"
      },
      "outputs": [
        {
          "data": {
            "text/plain": [
              "'The meaning of life is 42.'"
            ]
          },
          "execution_count": 167,
          "metadata": {},
          "output_type": "execute_result"
        }
      ],
      "source": [
        "g"
      ]
    },
    {
      "cell_type": "markdown",
      "id": "318f5756",
      "metadata": {
        "id": "318f5756"
      },
      "source": [
        "#### Type casting with strings"
      ]
    },
    {
      "cell_type": "code",
      "execution_count": 168,
      "id": "d88d0075",
      "metadata": {
        "colab": {
          "base_uri": "https://localhost:8080/",
          "height": 36
        },
        "id": "d88d0075",
        "outputId": "eaafe508-ec9f-40fe-b261-ccc5a13b1929"
      },
      "outputs": [
        {
          "name": "stdout",
          "output_type": "stream",
          "text": [
            "3.886\n"
          ]
        },
        {
          "data": {
            "text/plain": [
              "'3'"
            ]
          },
          "execution_count": 168,
          "metadata": {},
          "output_type": "execute_result"
        }
      ],
      "source": [
        "# anything can be cast TO a string, but not the other way around\n",
        "# cast a numeric type to a string\n",
        "print(str(3.886))\n",
        "str(3)\n",
        "# notice that I don't need a print statement on line 4, but I do on line 3\n",
        "# in a notebook, you don't need to use the print statement if it's the last line of code in a cell\n",
        "# notice how we have comments below line 4 but we don't need the print statement"
      ]
    },
    {
      "cell_type": "code",
      "execution_count": 171,
      "id": "zTwarfX1ssf2",
      "metadata": {
        "colab": {
          "base_uri": "https://localhost:8080/"
        },
        "id": "zTwarfX1ssf2",
        "outputId": "010da9b5-f600-4cbb-8688-c6e3bd1c0de8"
      },
      "outputs": [
        {
          "name": "stdout",
          "output_type": "stream",
          "text": [
            "3\n"
          ]
        },
        {
          "data": {
            "text/plain": [
              "3.6"
            ]
          },
          "execution_count": 171,
          "metadata": {},
          "output_type": "execute_result"
        }
      ],
      "source": [
        "# cast a string to a numeric type\n",
        "# print(int('three')) # this doesn't work\n",
        "print(int('3'))\n",
        "float('3.6')"
      ]
    },
    {
      "cell_type": "markdown",
      "id": "3141cab4",
      "metadata": {
        "id": "3141cab4"
      },
      "source": [
        "***"
      ]
    },
    {
      "cell_type": "markdown",
      "id": "d43abbee",
      "metadata": {
        "id": "d43abbee"
      },
      "source": [
        "## Advanced Data Types\n"
      ]
    },
    {
      "cell_type": "markdown",
      "id": "5bb9ec4f",
      "metadata": {
        "id": "5bb9ec4f"
      },
      "source": [
        "### Lists\n",
        "\n",
        "- **Mutable** and **ordered** sequence of objects.\n",
        "- Can be indexed, sliced, and changed.\n",
        "- Lists can be used for any type of object, from numbers and strings to more lists."
      ]
    },
    {
      "cell_type": "code",
      "execution_count": 1,
      "id": "8cf4cf8b",
      "metadata": {
        "id": "8cf4cf8b"
      },
      "outputs": [],
      "source": [
        "# Without lists, individual and unrelated variables\n",
        "# (imagine if you had hundreds of names)\n",
        "person1 = 'Mal'\n",
        "person2 = 'Zoe'\n",
        "person3 = 'Wash'\n",
        "person4 = 'Jayne'\n",
        "person5 = 'Kaylee'\n",
        "\n",
        "# Using lists, a data structure that contains many values\n",
        "people = ['Mal', 'Zoe', 'Wash', 'Jayne', 'Kaylee']\n",
        "\n",
        "# List creation\n",
        "empty_list = [] # brackets (square brackets)\n",
        "small_list = [2.3, 1, 'hello'] # List elements separated by commas"
      ]
    },
    {
      "cell_type": "code",
      "execution_count": 2,
      "id": "H0AbxUobMRyC",
      "metadata": {
        "colab": {
          "base_uri": "https://localhost:8080/"
        },
        "id": "H0AbxUobMRyC",
        "outputId": "e2ab1de6-57e3-48fe-b48b-fe09bf622a7e"
      },
      "outputs": [
        {
          "data": {
            "text/plain": [
              "[2.3, 1, 'hello']"
            ]
          },
          "execution_count": 2,
          "metadata": {},
          "output_type": "execute_result"
        }
      ],
      "source": [
        "small_list"
      ]
    },
    {
      "cell_type": "markdown",
      "id": "8f6fea68",
      "metadata": {},
      "source": [
        "- In Python, lists can have different data types in them unlike many programming languages.\n",
        "- This consumes more memory and sacrifices speed for ease of use."
      ]
    },
    {
      "cell_type": "code",
      "execution_count": 3,
      "id": "feee18ba",
      "metadata": {
        "id": "feee18ba"
      },
      "outputs": [],
      "source": [
        "large_animals = ['African Elephant', 'Asian Elephant', 'White Rhinoceros',\n",
        "\t\t\t\t 'Hippopotamus', 'Gaur', 'Giraffe', 'Walrus', 'Black Rhinoceros',\n",
        "\t\t\t\t 'Saltwater Crocodile', 'Water Buffalo']"
      ]
    },
    {
      "cell_type": "code",
      "execution_count": 4,
      "id": "f5ce53fe",
      "metadata": {
        "colab": {
          "base_uri": "https://localhost:8080/",
          "height": 36
        },
        "id": "f5ce53fe",
        "outputId": "75345b3e-dcfb-483f-fd27-42a2bc437c21"
      },
      "outputs": [
        {
          "data": {
            "text/plain": [
              "'Saltwater Crocodile'"
            ]
          },
          "execution_count": 4,
          "metadata": {},
          "output_type": "execute_result"
        }
      ],
      "source": [
        "# Access elements in a list using index\n",
        "large_animals[-2]"
      ]
    },
    {
      "cell_type": "code",
      "execution_count": 5,
      "id": "f-U_-f4xnyXg",
      "metadata": {
        "colab": {
          "base_uri": "https://localhost:8080/"
        },
        "id": "f-U_-f4xnyXg",
        "outputId": "e3659e0e-39bc-4c5c-c06a-f656d75522c8"
      },
      "outputs": [
        {
          "data": {
            "text/plain": [
              "6"
            ]
          },
          "execution_count": 5,
          "metadata": {},
          "output_type": "execute_result"
        }
      ],
      "source": [
        "# Finding index of an item in a list using .index()\n",
        "large_animals.index('Walrus')"
      ]
    },
    {
      "cell_type": "code",
      "execution_count": 6,
      "id": "wKrHLkRsYBYa",
      "metadata": {
        "colab": {
          "base_uri": "https://localhost:8080/"
        },
        "id": "wKrHLkRsYBYa",
        "outputId": "877c9b45-8f9a-4487-b1a1-479d56115eaf"
      },
      "outputs": [
        {
          "data": {
            "text/plain": [
              "10"
            ]
          },
          "execution_count": 6,
          "metadata": {},
          "output_type": "execute_result"
        }
      ],
      "source": [
        "# length of a list\n",
        "len(large_animals)"
      ]
    },
    {
      "cell_type": "code",
      "execution_count": 7,
      "id": "60d3ccdf",
      "metadata": {
        "colab": {
          "base_uri": "https://localhost:8080/"
        },
        "id": "60d3ccdf",
        "outputId": "a6926574-e7ed-4cde-da4c-6f1631851bb9"
      },
      "outputs": [
        {
          "data": {
            "text/plain": [
              "['Asian Elephant', 'Hippopotamus', 'Giraffe']"
            ]
          },
          "execution_count": 7,
          "metadata": {},
          "output_type": "execute_result"
        }
      ],
      "source": [
        "# Slicing [start:stop:step]\n",
        "large_animals[1:7:2]"
      ]
    },
    {
      "cell_type": "code",
      "execution_count": 8,
      "id": "f0a7da75",
      "metadata": {},
      "outputs": [
        {
          "data": {
            "text/plain": [
              "[0, 1, 2, 3, 4, 5, 6, 7, 8, 9]"
            ]
          },
          "execution_count": 8,
          "metadata": {},
          "output_type": "execute_result"
        }
      ],
      "source": [
        "zero_to_ten = list(range(10))\n",
        "zero_to_ten"
      ]
    },
    {
      "cell_type": "code",
      "execution_count": 9,
      "id": "e7022c55",
      "metadata": {},
      "outputs": [
        {
          "data": {
            "text/plain": [
              "[1, 3, 5]"
            ]
          },
          "execution_count": 9,
          "metadata": {},
          "output_type": "execute_result"
        }
      ],
      "source": [
        "zero_to_ten[1:7:2]"
      ]
    },
    {
      "cell_type": "code",
      "execution_count": 10,
      "id": "jCLXGn6SNls2",
      "metadata": {
        "colab": {
          "base_uri": "https://localhost:8080/"
        },
        "id": "jCLXGn6SNls2",
        "outputId": "6f5c1851-687c-4e15-c0e3-55a756a0f4f5"
      },
      "outputs": [
        {
          "data": {
            "text/plain": [
              "['Black Rhinoceros', 'Giraffe', 'Hippopotamus']"
            ]
          },
          "execution_count": 10,
          "metadata": {},
          "output_type": "execute_result"
        }
      ],
      "source": [
        "# Slicing backwards\n",
        "large_animals[7:1:-2]"
      ]
    },
    {
      "cell_type": "code",
      "execution_count": 11,
      "id": "f7b7c16e",
      "metadata": {
        "id": "f7b7c16e"
      },
      "outputs": [
        {
          "data": {
            "text/plain": [
              "['African Elephant',\n",
              " 'Asian Elephant',\n",
              " 'White Rhinoceros',\n",
              " 'Hippo',\n",
              " 'Gaur',\n",
              " 'Giraffe',\n",
              " 'Walrus',\n",
              " 'Black Rhinoceros',\n",
              " 'Saltwater Crocodile',\n",
              " 'Water Buffalo']"
            ]
          },
          "execution_count": 11,
          "metadata": {},
          "output_type": "execute_result"
        }
      ],
      "source": [
        "# changing values: change index 3 to 'Hippo'\n",
        "large_animals[3] = 'Hippo'\n",
        "large_animals"
      ]
    },
    {
      "cell_type": "code",
      "execution_count": 12,
      "id": "doz1IIYicrJ_",
      "metadata": {
        "id": "doz1IIYicrJ_"
      },
      "outputs": [],
      "source": [
        "# changing values - be careful with slices\n",
        "large_animals[:4] = 'Bear'"
      ]
    },
    {
      "cell_type": "code",
      "execution_count": 13,
      "id": "YM0D7-KmOIXr",
      "metadata": {
        "colab": {
          "base_uri": "https://localhost:8080/"
        },
        "id": "YM0D7-KmOIXr",
        "outputId": "eb442265-3fa6-4b0c-cb15-5dbc7a37fb6d"
      },
      "outputs": [
        {
          "data": {
            "text/plain": [
              "['B',\n",
              " 'e',\n",
              " 'a',\n",
              " 'r',\n",
              " 'Gaur',\n",
              " 'Giraffe',\n",
              " 'Walrus',\n",
              " 'Black Rhinoceros',\n",
              " 'Saltwater Crocodile',\n",
              " 'Water Buffalo']"
            ]
          },
          "execution_count": 13,
          "metadata": {},
          "output_type": "execute_result"
        }
      ],
      "source": [
        "large_animals"
      ]
    },
    {
      "cell_type": "code",
      "execution_count": 14,
      "id": "AOvlm8PxOPtw",
      "metadata": {
        "id": "AOvlm8PxOPtw"
      },
      "outputs": [],
      "source": [
        "large_animals[:4] = ['Bear', 'Bear', 'Bear', 'Bear']"
      ]
    },
    {
      "cell_type": "code",
      "execution_count": 15,
      "id": "oOquFWW8OR5b",
      "metadata": {
        "colab": {
          "base_uri": "https://localhost:8080/"
        },
        "id": "oOquFWW8OR5b",
        "outputId": "f129e2df-1d92-4544-f151-48565ec777e8"
      },
      "outputs": [
        {
          "data": {
            "text/plain": [
              "['Bear',\n",
              " 'Bear',\n",
              " 'Bear',\n",
              " 'Bear',\n",
              " 'Gaur',\n",
              " 'Giraffe',\n",
              " 'Walrus',\n",
              " 'Black Rhinoceros',\n",
              " 'Saltwater Crocodile',\n",
              " 'Water Buffalo']"
            ]
          },
          "execution_count": 15,
          "metadata": {},
          "output_type": "execute_result"
        }
      ],
      "source": [
        "large_animals"
      ]
    },
    {
      "cell_type": "code",
      "execution_count": 16,
      "id": "e9c689a9",
      "metadata": {
        "id": "e9c689a9"
      },
      "outputs": [],
      "source": [
        "# deleting: using empty list []\n",
        "large_animals[:4] = []"
      ]
    },
    {
      "cell_type": "code",
      "execution_count": 17,
      "id": "6Df5CufDOo13",
      "metadata": {
        "colab": {
          "base_uri": "https://localhost:8080/"
        },
        "id": "6Df5CufDOo13",
        "outputId": "2415ad63-2f50-46b5-9ded-f2987da0e7f0"
      },
      "outputs": [
        {
          "data": {
            "text/plain": [
              "['Gaur',\n",
              " 'Giraffe',\n",
              " 'Walrus',\n",
              " 'Black Rhinoceros',\n",
              " 'Saltwater Crocodile',\n",
              " 'Water Buffalo']"
            ]
          },
          "execution_count": 17,
          "metadata": {},
          "output_type": "execute_result"
        }
      ],
      "source": [
        "large_animals"
      ]
    },
    {
      "cell_type": "code",
      "execution_count": 18,
      "id": "jSqQSX-OvBxw",
      "metadata": {
        "id": "jSqQSX-OvBxw"
      },
      "outputs": [],
      "source": [
        "# using del\n",
        "del large_animals[1]"
      ]
    },
    {
      "cell_type": "code",
      "execution_count": 19,
      "id": "yaufFZ59O5Ln",
      "metadata": {
        "colab": {
          "base_uri": "https://localhost:8080/"
        },
        "id": "yaufFZ59O5Ln",
        "outputId": "bccee14f-494e-4163-9602-cef22ce6b5cc"
      },
      "outputs": [
        {
          "data": {
            "text/plain": [
              "['Gaur', 'Walrus', 'Black Rhinoceros', 'Saltwater Crocodile', 'Water Buffalo']"
            ]
          },
          "execution_count": 19,
          "metadata": {},
          "output_type": "execute_result"
        }
      ],
      "source": [
        "large_animals"
      ]
    },
    {
      "cell_type": "code",
      "execution_count": 20,
      "id": "b9d4cb27",
      "metadata": {
        "id": "b9d4cb27"
      },
      "outputs": [],
      "source": [
        "# extending via .append()\n",
        "# we don't overwrite the existing variable because lists are MUTABLE\n",
        "large_animals.append('Bear')"
      ]
    },
    {
      "cell_type": "code",
      "execution_count": 21,
      "id": "g_YHzCrwO_xl",
      "metadata": {
        "colab": {
          "base_uri": "https://localhost:8080/"
        },
        "id": "g_YHzCrwO_xl",
        "outputId": "b0931417-8ad2-4669-9dab-b4957b852588"
      },
      "outputs": [
        {
          "data": {
            "text/plain": [
              "['Gaur',\n",
              " 'Walrus',\n",
              " 'Black Rhinoceros',\n",
              " 'Saltwater Crocodile',\n",
              " 'Water Buffalo',\n",
              " 'Bear']"
            ]
          },
          "execution_count": 21,
          "metadata": {},
          "output_type": "execute_result"
        }
      ],
      "source": [
        "large_animals"
      ]
    },
    {
      "cell_type": "code",
      "execution_count": 22,
      "id": "c14337da",
      "metadata": {
        "id": "c14337da"
      },
      "outputs": [],
      "source": [
        "# extending via concatenation of a list\n",
        "large_animals += ['Bear', 'T-rex']"
      ]
    },
    {
      "cell_type": "code",
      "execution_count": 23,
      "id": "V6Ne7L69PJfh",
      "metadata": {
        "colab": {
          "base_uri": "https://localhost:8080/"
        },
        "id": "V6Ne7L69PJfh",
        "outputId": "04114daa-5768-4879-f0e2-2e68d135653a"
      },
      "outputs": [
        {
          "data": {
            "text/plain": [
              "['Gaur',\n",
              " 'Walrus',\n",
              " 'Black Rhinoceros',\n",
              " 'Saltwater Crocodile',\n",
              " 'Water Buffalo',\n",
              " 'Bear',\n",
              " 'Bear',\n",
              " 'T-rex']"
            ]
          },
          "execution_count": 23,
          "metadata": {},
          "output_type": "execute_result"
        }
      ],
      "source": [
        "large_animals"
      ]
    },
    {
      "cell_type": "code",
      "execution_count": 24,
      "id": "780a9cb8",
      "metadata": {
        "colab": {
          "base_uri": "https://localhost:8080/"
        },
        "id": "780a9cb8",
        "outputId": "8f577d08-098b-4e7d-cf4f-15352aeb19d7"
      },
      "outputs": [
        {
          "data": {
            "text/plain": [
              "[['Elephant', 'Tiger', 'Dog', ['Cat', 'Big Cat']],\n",
              " ['Whale', 'Dolphin', 'Shark', 'Eel'],\n",
              " ['Eagle', 'Robin']]"
            ]
          },
          "execution_count": 24,
          "metadata": {},
          "output_type": "execute_result"
        }
      ],
      "source": [
        "# Lists within lists\n",
        "animal_kingdom = [\n",
        "\t['Elephant', 'Tiger', 'Dog', ['Cat', 'Big Cat']],\n",
        "\t['Whale', 'Dolphin', 'Shark', 'Eel'],\n",
        "\t['Eagle', 'Robin']\n",
        "]\n",
        "animal_kingdom"
      ]
    },
    {
      "cell_type": "code",
      "execution_count": 25,
      "id": "UJKmJiYTy9ZG",
      "metadata": {
        "colab": {
          "base_uri": "https://localhost:8080/",
          "height": 36
        },
        "id": "UJKmJiYTy9ZG",
        "outputId": "ede7a7b8-e019-4ecd-b7aa-9519cdb6b5e0"
      },
      "outputs": [
        {
          "data": {
            "text/plain": [
              "'Big Cat'"
            ]
          },
          "execution_count": 25,
          "metadata": {},
          "output_type": "execute_result"
        }
      ],
      "source": [
        "# indexing practice - how to access the dolphin?\n",
        "animal_kingdom[0][3][1]"
      ]
    },
    {
      "cell_type": "code",
      "execution_count": 26,
      "id": "W8qBh-9uywTm",
      "metadata": {
        "colab": {
          "base_uri": "https://localhost:8080/",
          "height": 36
        },
        "id": "W8qBh-9uywTm",
        "outputId": "d53920e4-850e-453f-e720-79a8175d080b"
      },
      "outputs": [
        {
          "data": {
            "text/plain": [
              "'Cat'"
            ]
          },
          "execution_count": 26,
          "metadata": {},
          "output_type": "execute_result"
        }
      ],
      "source": [
        "# how about cat?\n",
        "animal_kingdom[0][3][0]"
      ]
    },
    {
      "cell_type": "markdown",
      "id": "b8e5061a",
      "metadata": {
        "id": "b8e5061a"
      },
      "source": [
        "#### String and List Similarities"
      ]
    },
    {
      "cell_type": "code",
      "execution_count": 27,
      "id": "0d6000e9",
      "metadata": {
        "colab": {
          "base_uri": "https://localhost:8080/",
          "height": 36
        },
        "id": "0d6000e9",
        "outputId": "b96aabbf-8be9-4535-c3f3-d7bb6f60eead"
      },
      "outputs": [
        {
          "data": {
            "text/plain": [
              "'this is really symbols just a list of symbols called characters'"
            ]
          },
          "execution_count": 27,
          "metadata": {},
          "output_type": "execute_result"
        }
      ],
      "source": [
        "# slices can be returned from strings the same as lists\n",
        "a = 'this is really symbols just a list of symbols called characters'\n",
        "a"
      ]
    },
    {
      "cell_type": "code",
      "execution_count": 28,
      "id": "pcvD5CQBhD3E",
      "metadata": {
        "colab": {
          "base_uri": "https://localhost:8080/",
          "height": 36
        },
        "id": "pcvD5CQBhD3E",
        "outputId": "be184260-7f0a-4f0b-f919-f04b877ac84b"
      },
      "outputs": [
        {
          "data": {
            "text/plain": [
              "'r'"
            ]
          },
          "execution_count": 28,
          "metadata": {},
          "output_type": "execute_result"
        }
      ],
      "source": [
        "# access a character\n",
        "a[8]"
      ]
    },
    {
      "cell_type": "code",
      "execution_count": 29,
      "id": "3jUrJlO8hEYG",
      "metadata": {
        "colab": {
          "base_uri": "https://localhost:8080/",
          "height": 36
        },
        "id": "3jUrJlO8hEYG",
        "outputId": "8c5d3807-d5e2-4eeb-f2d2-d6f7306efcd1"
      },
      "outputs": [
        {
          "data": {
            "text/plain": [
              "'les'"
            ]
          },
          "execution_count": 29,
          "metadata": {},
          "output_type": "execute_result"
        }
      ],
      "source": [
        "# access a slice\n",
        "a[12:4:-3]"
      ]
    },
    {
      "cell_type": "code",
      "execution_count": 30,
      "id": "EJBFq8K8hEzR",
      "metadata": {
        "colab": {
          "base_uri": "https://localhost:8080/"
        },
        "id": "EJBFq8K8hEzR",
        "outputId": "8e103cf8-7828-4df2-d8b9-e9e2d7f09118"
      },
      "outputs": [
        {
          "data": {
            "text/plain": [
              "['this',\n",
              " 'is',\n",
              " 'really',\n",
              " 'symbols',\n",
              " 'just',\n",
              " 'a',\n",
              " 'list',\n",
              " 'of',\n",
              " 'symbols',\n",
              " 'called',\n",
              " 'characters']"
            ]
          },
          "execution_count": 30,
          "metadata": {},
          "output_type": "execute_result"
        }
      ],
      "source": [
        "# splitting strings into lists using .split()\n",
        "# the default argument to the split method is a space so we don't have to specify it\n",
        "a.split()"
      ]
    },
    {
      "cell_type": "code",
      "execution_count": 31,
      "id": "yx8PuaEnhClF",
      "metadata": {
        "colab": {
          "base_uri": "https://localhost:8080/"
        },
        "id": "yx8PuaEnhClF",
        "outputId": "1996fc92-11c1-4bd8-daab-42586b50a5f5"
      },
      "outputs": [
        {
          "data": {
            "text/plain": [
              "['this is really symbols', 'a list of symbols called characters']"
            ]
          },
          "execution_count": 31,
          "metadata": {},
          "output_type": "execute_result"
        }
      ],
      "source": [
        "# splitting by a substring\n",
        "a.split(' just ')"
      ]
    },
    {
      "cell_type": "markdown",
      "id": "fd0d5ea9",
      "metadata": {
        "id": "fd0d5ea9"
      },
      "source": [
        "***"
      ]
    },
    {
      "cell_type": "markdown",
      "id": "cb2a2ca0",
      "metadata": {
        "id": "cb2a2ca0"
      },
      "source": [
        "### Tuple\n",
        "- **immutable** and **ordered** objects.\n",
        "- Similar to a list, but without some functionalities.\n",
        "- Indexing and splitting similar to lists.\n",
        "- More efficient."
      ]
    },
    {
      "cell_type": "code",
      "execution_count": 32,
      "id": "f8939ab8",
      "metadata": {
        "id": "f8939ab8"
      },
      "outputs": [],
      "source": [
        "# definition - parentheses (round brackets) and elements separated by commas\n",
        "a = ('Steve', 'Canada', 'python')"
      ]
    },
    {
      "cell_type": "code",
      "execution_count": 33,
      "id": "Nhlbv_PGhMve",
      "metadata": {
        "colab": {
          "base_uri": "https://localhost:8080/"
        },
        "id": "Nhlbv_PGhMve",
        "outputId": "e016cf96-2c75-4266-b36a-64184fa00824"
      },
      "outputs": [
        {
          "data": {
            "text/plain": [
              "3"
            ]
          },
          "execution_count": 33,
          "metadata": {},
          "output_type": "execute_result"
        }
      ],
      "source": [
        "# getting the size of a tuple (or list) usng len()\n",
        "len(a)"
      ]
    },
    {
      "cell_type": "code",
      "execution_count": 34,
      "id": "0hLw0S5Khb7I",
      "metadata": {
        "colab": {
          "base_uri": "https://localhost:8080/",
          "height": 36
        },
        "id": "0hLw0S5Khb7I",
        "outputId": "828c4aef-f6f4-4c98-deef-8ea1ebaae0dd"
      },
      "outputs": [
        {
          "data": {
            "text/plain": [
              "'Canada'"
            ]
          },
          "execution_count": 34,
          "metadata": {},
          "output_type": "execute_result"
        }
      ],
      "source": [
        "# accessing one element\n",
        "a[1]"
      ]
    },
    {
      "cell_type": "code",
      "execution_count": 35,
      "id": "Y-rUCvxXhcgH",
      "metadata": {
        "colab": {
          "base_uri": "https://localhost:8080/"
        },
        "id": "Y-rUCvxXhcgH",
        "outputId": "9b165774-ccce-4c91-d924-ca9f428e33c8"
      },
      "outputs": [
        {
          "data": {
            "text/plain": [
              "('python', 'Canada', 'Steve')"
            ]
          },
          "execution_count": 35,
          "metadata": {},
          "output_type": "execute_result"
        }
      ],
      "source": [
        "# accessing a sequence of entries using slicing\n",
        "a[::-1]"
      ]
    },
    {
      "cell_type": "code",
      "execution_count": 36,
      "id": "hIgl0AaYhc3I",
      "metadata": {
        "id": "hIgl0AaYhc3I"
      },
      "outputs": [],
      "source": [
        "# \"unpacking\" tuples (or lists)\n",
        "name, country, language = a"
      ]
    },
    {
      "cell_type": "code",
      "execution_count": 37,
      "id": "C_9TXQ1iTXK2",
      "metadata": {
        "colab": {
          "base_uri": "https://localhost:8080/",
          "height": 36
        },
        "id": "C_9TXQ1iTXK2",
        "outputId": "92946783-d8c3-4952-dc3a-e80713b8f079"
      },
      "outputs": [
        {
          "data": {
            "text/plain": [
              "'python'"
            ]
          },
          "execution_count": 37,
          "metadata": {},
          "output_type": "execute_result"
        }
      ],
      "source": [
        "language"
      ]
    },
    {
      "cell_type": "code",
      "execution_count": 38,
      "id": "XToooJpQUA9n",
      "metadata": {
        "id": "XToooJpQUA9n"
      },
      "outputs": [
        {
          "data": {
            "text/plain": [
              "('Steve', 'Canada', 'python', 'SQL', 'R')"
            ]
          },
          "execution_count": 38,
          "metadata": {},
          "output_type": "execute_result"
        }
      ],
      "source": [
        "# combining tuples\n",
        "a = a + ('SQL', 'R')\n",
        "a"
      ]
    },
    {
      "cell_type": "code",
      "execution_count": 39,
      "id": "IJ2U0QKUhbAw",
      "metadata": {
        "colab": {
          "base_uri": "https://localhost:8080/"
        },
        "id": "IJ2U0QKUhbAw",
        "outputId": "463ca920-d74b-42e5-cff0-8aaf64415350"
      },
      "outputs": [
        {
          "data": {
            "text/plain": [
              "True"
            ]
          },
          "execution_count": 39,
          "metadata": {},
          "output_type": "execute_result"
        }
      ],
      "source": [
        "# checking membership using in - this is faster with tuples\n",
        "'python' in a"
      ]
    },
    {
      "cell_type": "code",
      "execution_count": 40,
      "id": "wn5bk1S3haVy",
      "metadata": {
        "id": "wn5bk1S3haVy"
      },
      "outputs": [
        {
          "ename": "TypeError",
          "evalue": "'tuple' object does not support item assignment",
          "output_type": "error",
          "traceback": [
            "\u001b[1;31m---------------------------------------------------------------------------\u001b[0m",
            "\u001b[1;31mTypeError\u001b[0m                                 Traceback (most recent call last)",
            "Cell \u001b[1;32mIn[40], line 3\u001b[0m\n\u001b[0;32m      1\u001b[0m \u001b[38;5;66;03m# cannot modify tuple objects\u001b[39;00m\n\u001b[0;32m      2\u001b[0m \u001b[38;5;66;03m# they are 'immutable' (this is the essential difference from lists)\u001b[39;00m\n\u001b[1;32m----> 3\u001b[0m \u001b[43ma\u001b[49m\u001b[43m[\u001b[49m\u001b[38;5;241;43m1\u001b[39;49m\u001b[43m]\u001b[49m \u001b[38;5;241m=\u001b[39m \u001b[38;5;124m'\u001b[39m\u001b[38;5;124mSQL\u001b[39m\u001b[38;5;124m'\u001b[39m\n",
            "\u001b[1;31mTypeError\u001b[0m: 'tuple' object does not support item assignment"
          ]
        }
      ],
      "source": [
        "# cannot modify tuple objects\n",
        "# they are 'immutable' (this is the essential difference from lists)\n",
        "a[1] = 'SQL'"
      ]
    },
    {
      "cell_type": "markdown",
      "id": "997d7a83",
      "metadata": {
        "id": "997d7a83"
      },
      "source": [
        "- Tuples can be used as \"keys\" in dictionary data structures (which we'll see below), whereas lists cannot."
      ]
    },
    {
      "cell_type": "markdown",
      "id": "aaeab8d7",
      "metadata": {
        "id": "aaeab8d7"
      },
      "source": [
        "***"
      ]
    },
    {
      "cell_type": "markdown",
      "id": "140ee287",
      "metadata": {
        "id": "140ee287"
      },
      "source": [
        "### Dictionaries\n",
        "\n",
        "- Quite different from lists.\n",
        "- Elements are accessed using 'keys' rather than order/index.\n",
        "- 'keys' can take on numerous data types (str, int, float, tuple).\n",
        "\t- As long as the data type is ['hashable'](https://towardsdatascience.com/iterable-ordered-mutable-and-hashable-python-objects-explained-1254c9b9e421#:~:text=In%20particular%2C%20all%20the%20primitive,sets%2C%20and%20bytearrays%20are%20unhashable.)."
      ]
    },
    {
      "cell_type": "code",
      "execution_count": 233,
      "id": "25c88531",
      "metadata": {
        "id": "25c88531"
      },
      "outputs": [],
      "source": [
        "# definition - braces, keys and values separated by colons,\n",
        "# commas between key/value pairs\n",
        "x = {\n",
        "\t'Student_ID': [1, 2, 3],\n",
        "\t'Student_Name': 42,\n",
        "\t'degree': ['marketing', 'computer science', 'snake studies']\n",
        "}"
      ]
    },
    {
      "cell_type": "code",
      "execution_count": 234,
      "id": "Fm2z_LaNYvd0",
      "metadata": {
        "colab": {
          "base_uri": "https://localhost:8080/"
        },
        "id": "Fm2z_LaNYvd0",
        "outputId": "0f38f816-cfb5-4851-bcdc-bd185f465b4f"
      },
      "outputs": [
        {
          "data": {
            "text/plain": [
              "[1, 2, 3]"
            ]
          },
          "execution_count": 234,
          "metadata": {},
          "output_type": "execute_result"
        }
      ],
      "source": [
        "# access a value\n",
        "x['Student_ID']"
      ]
    },
    {
      "cell_type": "code",
      "execution_count": 235,
      "id": "0537aba9",
      "metadata": {
        "id": "0537aba9"
      },
      "outputs": [
        {
          "data": {
            "text/plain": [
              "{'Student_ID': [1, 2, 3],\n",
              " 'Student_Name': 'Homer Simpson',\n",
              " 'degree': ['marketing', 'computer science', 'snake studies']}"
            ]
          },
          "execution_count": 235,
          "metadata": {},
          "output_type": "execute_result"
        }
      ],
      "source": [
        "# modifying or adding values\n",
        "x['Student_Name'] = 'Homer Simpson'\n",
        "x"
      ]
    },
    {
      "cell_type": "code",
      "execution_count": 236,
      "id": "9dWElYMFtiCl",
      "metadata": {
        "id": "9dWElYMFtiCl"
      },
      "outputs": [
        {
          "data": {
            "text/plain": [
              "{'Student_ID': [1, 2, 3],\n",
              " 'Student_Name': 'Homer Simpson',\n",
              " 'degree': ['marketing', 'computer science', 'snake studies'],\n",
              " 'hobbies': ['sleeping', 'donut eating']}"
            ]
          },
          "execution_count": 236,
          "metadata": {},
          "output_type": "execute_result"
        }
      ],
      "source": [
        "# adding keys and values\n",
        "x['hobbies'] = ['sleeping', 'donut eating']\n",
        "x"
      ]
    },
    {
      "cell_type": "code",
      "execution_count": 237,
      "id": "c1f5fa7e",
      "metadata": {
        "colab": {
          "base_uri": "https://localhost:8080/"
        },
        "id": "c1f5fa7e",
        "outputId": "94ca7d82-43d5-4896-e741-72b7fce61f66"
      },
      "outputs": [
        {
          "data": {
            "text/plain": [
              "dict_keys(['Student_ID', 'Student_Name', 'degree', 'hobbies'])"
            ]
          },
          "execution_count": 237,
          "metadata": {},
          "output_type": "execute_result"
        }
      ],
      "source": [
        "# retrieving keys\n",
        "x.keys()"
      ]
    },
    {
      "cell_type": "code",
      "execution_count": 238,
      "id": "1f423d28",
      "metadata": {
        "colab": {
          "base_uri": "https://localhost:8080/"
        },
        "id": "1f423d28",
        "outputId": "ea7f7b22-a78d-4466-f54a-0f614457a594"
      },
      "outputs": [
        {
          "data": {
            "text/plain": [
              "dict_values([[1, 2, 3], 'Homer Simpson', ['marketing', 'computer science', 'snake studies'], ['sleeping', 'donut eating']])"
            ]
          },
          "execution_count": 238,
          "metadata": {},
          "output_type": "execute_result"
        }
      ],
      "source": [
        "# retrieving values\n",
        "x.values()"
      ]
    },
    {
      "cell_type": "code",
      "execution_count": 239,
      "id": "3f2a4650",
      "metadata": {
        "colab": {
          "base_uri": "https://localhost:8080/"
        },
        "id": "3f2a4650",
        "outputId": "556611c7-31b5-41c7-ca21-bef959c60983"
      },
      "outputs": [
        {
          "data": {
            "text/plain": [
              "dict_items([('Student_ID', [1, 2, 3]), ('Student_Name', 'Homer Simpson'), ('degree', ['marketing', 'computer science', 'snake studies']), ('hobbies', ['sleeping', 'donut eating'])])"
            ]
          },
          "execution_count": 239,
          "metadata": {},
          "output_type": "execute_result"
        }
      ],
      "source": [
        "# retrieving keys and values (items)\n",
        "x.items()"
      ]
    },
    {
      "cell_type": "markdown",
      "id": "d8ca1111",
      "metadata": {
        "id": "d8ca1111"
      },
      "source": [
        "- Note: Dictionaries should not be used as 'ordered' data types like lists, and it is dangerous to write your code in a way that uses the order of a dictionary.  Dictionaries are ordered in newer versions of Python but not in old versions.\n",
        "\n",
        "- It makes no sense to say that the 'student_name'th entry comes before the 'degree'th entry, even though this is how we have written it above."
      ]
    },
    {
      "cell_type": "markdown",
      "id": "95be87ab",
      "metadata": {
        "id": "95be87ab"
      },
      "source": [
        "***"
      ]
    },
    {
      "cell_type": "markdown",
      "id": "882f5149",
      "metadata": {
        "id": "882f5149"
      },
      "source": [
        "### Sets\n",
        "\n",
        "- Unordered, meaning there is no element 0 and element 1 etc...\n",
        "- The values contained are unique - meaning there are no duplicate entries.\n",
        "- Because of this, sets are good for removing duplicates from lists."
      ]
    },
    {
      "cell_type": "code",
      "execution_count": 240,
      "id": "91fd81ce",
      "metadata": {
        "colab": {
          "base_uri": "https://localhost:8080/"
        },
        "id": "91fd81ce",
        "outputId": "f86c0d58-1601-4c56-a8f3-a4857538b97a"
      },
      "outputs": [
        {
          "data": {
            "text/plain": [
              "{1.0, 2, 'apPle', 'apple'}"
            ]
          },
          "execution_count": 240,
          "metadata": {},
          "output_type": "execute_result"
        }
      ],
      "source": [
        "# definition - braces and commas between elements\n",
        "my_set = {2, 1.0, 'apple', 1.0, 'apPle'}\n",
        "my_set"
      ]
    },
    {
      "cell_type": "code",
      "execution_count": 243,
      "id": "aZmxTAPAudCi",
      "metadata": {
        "colab": {
          "base_uri": "https://localhost:8080/"
        },
        "id": "aZmxTAPAudCi",
        "outputId": "6e2157d7-100c-475d-ec93-9c58ed22667a"
      },
      "outputs": [
        {
          "name": "stdout",
          "output_type": "stream",
          "text": [
            "9\n",
            "{1, 2, 4, 5, 6, 'hello'}\n"
          ]
        },
        {
          "data": {
            "text/plain": [
              "6"
            ]
          },
          "execution_count": 243,
          "metadata": {},
          "output_type": "execute_result"
        }
      ],
      "source": [
        "# delete duplicates from a list using set()\n",
        "lst = [2, 4, 5, 1, 2, 6, 4.0, 'hello', 'hello']\n",
        "print(len(lst))\n",
        "print(set(lst))\n",
        "len(set(lst))"
      ]
    },
    {
      "cell_type": "markdown",
      "id": "8e27bec4",
      "metadata": {
        "id": "8e27bec4"
      },
      "source": [
        "### Summary\n",
        "\n",
        "|Data Structure\t| Preserves order | Mutable | Symbol| Can contain duplicates | Can be sliced |\n",
        "|---------|------|------|------|------|------|\n",
        "|str\t|✓\t|☓\t|''  , \"\"|\t✓|✓|\n",
        "|list\t|✓\t|✓\t|[] |\t✓|✓|\n",
        "|tuple\t|✓\t|☓\t|() |\t✓|✓|\n",
        "|set\t|☓\t|✓\t|{} |\t☓|☓|\n",
        "|dict  |✓\t|✓\t|{key: value} | \t☓| ☓|"
      ]
    },
    {
      "cell_type": "markdown",
      "id": "b846ecc8",
      "metadata": {
        "id": "b846ecc8"
      },
      "source": [
        "***"
      ]
    },
    {
      "cell_type": "markdown",
      "id": "8b304718",
      "metadata": {
        "id": "8b304718"
      },
      "source": [
        "### Booleans and Comparison"
      ]
    },
    {
      "cell_type": "code",
      "execution_count": 244,
      "id": "bLPalLxmiN-7",
      "metadata": {
        "id": "bLPalLxmiN-7"
      },
      "outputs": [],
      "source": [
        "a = True"
      ]
    },
    {
      "cell_type": "code",
      "execution_count": 245,
      "id": "62g7NAhoiQIh",
      "metadata": {
        "colab": {
          "base_uri": "https://localhost:8080/"
        },
        "id": "62g7NAhoiQIh",
        "outputId": "dd22004a-4812-4a1d-f330-1e33e913000b"
      },
      "outputs": [
        {
          "data": {
            "text/plain": [
              "True"
            ]
          },
          "execution_count": 245,
          "metadata": {},
          "output_type": "execute_result"
        }
      ],
      "source": [
        "a"
      ]
    },
    {
      "cell_type": "code",
      "execution_count": 246,
      "id": "85f2d40f",
      "metadata": {
        "id": "85f2d40f"
      },
      "outputs": [],
      "source": [
        "a = 14\n",
        "b = 5"
      ]
    },
    {
      "cell_type": "code",
      "execution_count": 247,
      "id": "9uITERrAbGfJ",
      "metadata": {
        "colab": {
          "base_uri": "https://localhost:8080/"
        },
        "id": "9uITERrAbGfJ",
        "outputId": "c9aa8e20-a78f-49e0-9cd1-3de85f3bc352"
      },
      "outputs": [
        {
          "data": {
            "text/plain": [
              "False"
            ]
          },
          "execution_count": 247,
          "metadata": {},
          "output_type": "execute_result"
        }
      ],
      "source": [
        "# equal\n",
        "a == b # False"
      ]
    },
    {
      "cell_type": "code",
      "execution_count": 248,
      "id": "iE7BSJ0Wa9Uo",
      "metadata": {
        "colab": {
          "base_uri": "https://localhost:8080/"
        },
        "id": "iE7BSJ0Wa9Uo",
        "outputId": "2f546c69-4f7a-4703-b596-101880234697"
      },
      "outputs": [
        {
          "data": {
            "text/plain": [
              "True"
            ]
          },
          "execution_count": 248,
          "metadata": {},
          "output_type": "execute_result"
        }
      ],
      "source": [
        "# not equal\n",
        "a != b"
      ]
    },
    {
      "cell_type": "code",
      "execution_count": 74,
      "id": "IfiVINodWPU_",
      "metadata": {
        "id": "IfiVINodWPU_"
      },
      "outputs": [],
      "source": [
        "# not going to work in python\n",
        "# a <> b"
      ]
    },
    {
      "cell_type": "code",
      "execution_count": 249,
      "id": "ctrdTv6LbBhi",
      "metadata": {
        "colab": {
          "base_uri": "https://localhost:8080/"
        },
        "id": "ctrdTv6LbBhi",
        "outputId": "0a927f44-f3a1-4169-fc18-c37dafaf394b"
      },
      "outputs": [
        {
          "data": {
            "text/plain": [
              "True"
            ]
          },
          "execution_count": 249,
          "metadata": {},
          "output_type": "execute_result"
        }
      ],
      "source": [
        "# greater than\n",
        "a > b"
      ]
    },
    {
      "cell_type": "code",
      "execution_count": 250,
      "id": "pLxg9olkbETZ",
      "metadata": {
        "colab": {
          "base_uri": "https://localhost:8080/"
        },
        "id": "pLxg9olkbETZ",
        "outputId": "5237c866-42ce-4180-846b-57a14cf3d3af"
      },
      "outputs": [
        {
          "data": {
            "text/plain": [
              "True"
            ]
          },
          "execution_count": 250,
          "metadata": {},
          "output_type": "execute_result"
        }
      ],
      "source": [
        "# greater than or equal to\n",
        "a >= b"
      ]
    },
    {
      "cell_type": "code",
      "execution_count": 251,
      "id": "YhH4hDq4bMh1",
      "metadata": {
        "colab": {
          "base_uri": "https://localhost:8080/"
        },
        "id": "YhH4hDq4bMh1",
        "outputId": "7bc52943-acbd-4e48-b88c-c6b5e4d77bda"
      },
      "outputs": [
        {
          "data": {
            "text/plain": [
              "False"
            ]
          },
          "execution_count": 251,
          "metadata": {},
          "output_type": "execute_result"
        }
      ],
      "source": [
        "# less than\n",
        "a < b"
      ]
    },
    {
      "cell_type": "code",
      "execution_count": 252,
      "id": "PPkTK9avbN4w",
      "metadata": {
        "colab": {
          "base_uri": "https://localhost:8080/"
        },
        "id": "PPkTK9avbN4w",
        "outputId": "2f1707fb-9a2f-48fe-9085-4e03ff706bd2"
      },
      "outputs": [
        {
          "data": {
            "text/plain": [
              "False"
            ]
          },
          "execution_count": 252,
          "metadata": {},
          "output_type": "execute_result"
        }
      ],
      "source": [
        "# less than or equal to\n",
        "a <= b"
      ]
    },
    {
      "cell_type": "code",
      "execution_count": 253,
      "id": "1an7nCiGbLdZ",
      "metadata": {
        "id": "1an7nCiGbLdZ"
      },
      "outputs": [],
      "source": [
        "# equality with strings\n",
        "a = '1 2 3'\n",
        "b = 'one two 3'"
      ]
    },
    {
      "cell_type": "code",
      "execution_count": 254,
      "id": "9i_YCVOdiFR8",
      "metadata": {
        "colab": {
          "base_uri": "https://localhost:8080/"
        },
        "id": "9i_YCVOdiFR8",
        "outputId": "7e294f98-dce0-436b-9233-813c24072bc4"
      },
      "outputs": [
        {
          "data": {
            "text/plain": [
              "False"
            ]
          },
          "execution_count": 254,
          "metadata": {},
          "output_type": "execute_result"
        }
      ],
      "source": [
        "a == b"
      ]
    },
    {
      "cell_type": "code",
      "execution_count": 257,
      "id": "s-fTYgZ1i2Uv",
      "metadata": {
        "colab": {
          "base_uri": "https://localhost:8080/"
        },
        "id": "s-fTYgZ1i2Uv",
        "outputId": "ba15db12-3818-4f3e-a40e-893a76ebcc60"
      },
      "outputs": [
        {
          "data": {
            "text/plain": [
              "True"
            ]
          },
          "execution_count": 257,
          "metadata": {},
          "output_type": "execute_result"
        }
      ],
      "source": [
        "3 == 3.0"
      ]
    },
    {
      "cell_type": "code",
      "execution_count": 258,
      "id": "Pa5lhz6Va1iS",
      "metadata": {
        "colab": {
          "base_uri": "https://localhost:8080/"
        },
        "id": "Pa5lhz6Va1iS",
        "outputId": "af4b23af-4c89-4c70-8f4b-a5e4e762a9de"
      },
      "outputs": [
        {
          "data": {
            "text/plain": [
              "True"
            ]
          },
          "execution_count": 258,
          "metadata": {},
          "output_type": "execute_result"
        }
      ],
      "source": [
        "# logic operators (compound boolean expressions)\n",
        "\n",
        "# and - both must be True\n",
        "snow = False\n",
        "temperature = 28\n",
        "camping = (temperature > 25) and (snow == False)\n",
        "camping"
      ]
    },
    {
      "cell_type": "code",
      "execution_count": 260,
      "id": "hKF2YlBmigQ1",
      "metadata": {
        "colab": {
          "base_uri": "https://localhost:8080/"
        },
        "id": "hKF2YlBmigQ1",
        "outputId": "9b8607a0-d6c6-4331-a1ee-bfecb0d30c16"
      },
      "outputs": [
        {
          "data": {
            "text/plain": [
              "False"
            ]
          },
          "execution_count": 260,
          "metadata": {},
          "output_type": "execute_result"
        }
      ],
      "source": [
        "snow = True\n",
        "camping = temperature > 25 and snow == False\n",
        "camping"
      ]
    },
    {
      "cell_type": "code",
      "execution_count": 262,
      "id": "UiCaA96YbhdY",
      "metadata": {
        "colab": {
          "base_uri": "https://localhost:8080/"
        },
        "id": "UiCaA96YbhdY",
        "outputId": "1ff95d51-be67-4fbc-9b74-7c1e15b3886f"
      },
      "outputs": [
        {
          "data": {
            "text/plain": [
              "True"
            ]
          },
          "execution_count": 262,
          "metadata": {},
          "output_type": "execute_result"
        }
      ],
      "source": [
        "# or - either must be True\n",
        "has_coffee = True\n",
        "has_beer = True\n",
        "has_both = has_coffee or has_beer\n",
        "has_both"
      ]
    },
    {
      "cell_type": "code",
      "execution_count": 263,
      "id": "dNPJ5WdUikf2",
      "metadata": {
        "colab": {
          "base_uri": "https://localhost:8080/"
        },
        "id": "dNPJ5WdUikf2",
        "outputId": "27bc7b4e-a1c8-4882-93ca-61b3f57d36bc"
      },
      "outputs": [
        {
          "data": {
            "text/plain": [
              "True"
            ]
          },
          "execution_count": 263,
          "metadata": {},
          "output_type": "execute_result"
        }
      ],
      "source": [
        "has_coffee = False\n",
        "has_coffee or has_beer"
      ]
    },
    {
      "cell_type": "markdown",
      "id": "63c2dd62",
      "metadata": {
        "id": "63c2dd62"
      },
      "source": [
        "### Control Structure (also refered to **control flow**): if/elif/else Statements\n",
        "\n",
        "- Essential programming concept, in any langauge. \n",
        "- Allows the code to 'react' to circumstances.\n",
        "- Executes code only if a certain condition is met.\n",
        "\n",
        "```python\n",
        "if [boolean expression]: # starts with if keyword then test condition\n",
        "\t[what to do when the boolean expression evaluates to True]\n",
        "else:   # optional\n",
        "\t[what to do when the boolean expression evaluates to False]\n",
        "```"
      ]
    },
    {
      "cell_type": "code",
      "execution_count": 264,
      "id": "d328d9c2",
      "metadata": {
        "id": "d328d9c2"
      },
      "outputs": [],
      "source": [
        "# using the data structure above, let's output something different depending on\n",
        "# whether or not someone passed the course\n",
        "course_marks = {'Linda': 84, 'Andrew': 100, 'Jasmine': 12}\n",
        "pass_mark = 85"
      ]
    },
    {
      "cell_type": "code",
      "execution_count": 265,
      "id": "n3hG39Zkidyv",
      "metadata": {
        "colab": {
          "base_uri": "https://localhost:8080/"
        },
        "id": "n3hG39Zkidyv",
        "outputId": "33122bd3-6b02-41de-cf2b-c71fe48167f7"
      },
      "outputs": [
        {
          "name": "stdout",
          "output_type": "stream",
          "text": [
            "Linda has not passed\n"
          ]
        }
      ],
      "source": [
        "# did Linda pass?\n",
        "if course_marks['Linda'] >= pass_mark:\n",
        "\tprint('Linda has passed')\n",
        "else:\n",
        "\tprint('Linda has not passed')"
      ]
    },
    {
      "cell_type": "markdown",
      "id": "b26415b9",
      "metadata": {
        "id": "b26415b9"
      },
      "source": [
        "#### ifs and elifs\n",
        "```python\n",
        "if [boolean expression]: # starts with if keyword then test condition\n",
        "\t[what to do when the boolean expression evaluates to True]\n",
        "elif: [boolean expression] # optional\n",
        "\t[what to do when the boolean expression evaluates to True]\n",
        "else: # optional\n",
        "\t[what to do when the boolean expression evaluates to False]\n",
        "```\n",
        "\n"
      ]
    },
    {
      "cell_type": "code",
      "execution_count": 266,
      "id": "13725f32",
      "metadata": {
        "colab": {
          "base_uri": "https://localhost:8080/"
        },
        "id": "13725f32",
        "outputId": "fc980411-8f1a-46ed-9501-30491c37b747"
      },
      "outputs": [
        {
          "name": "stdout",
          "output_type": "stream",
          "text": [
            "B\n"
          ]
        }
      ],
      "source": [
        "course_marks = {'Linda': 84, 'Andrew': 100, 'Jasmine': 12}\n",
        "# print Linda's letter grade using if/else\n",
        "if course_marks['Linda'] >= 90:\n",
        "\tprint('A')\n",
        "elif course_marks['Linda'] >= 80:\n",
        "\tprint('B')\n",
        "elif course_marks['Linda'] >= 70:\n",
        "\tprint('C')\n",
        "elif course_marks['Linda'] >= 60:\n",
        "\tprint('D')\n",
        "else:\n",
        "\tprint('F')"
      ]
    },
    {
      "cell_type": "markdown",
      "id": "2977b6a1",
      "metadata": {
        "id": "2977b6a1"
      },
      "source": [
        "### Nested ifs"
      ]
    },
    {
      "cell_type": "code",
      "execution_count": 267,
      "id": "60fbe6e1",
      "metadata": {
        "colab": {
          "base_uri": "https://localhost:8080/"
        },
        "id": "60fbe6e1",
        "outputId": "88dc1684-f75a-44b9-e2e3-89b953a46d55"
      },
      "outputs": [
        {
          "name": "stdout",
          "output_type": "stream",
          "text": [
            "positive\n"
          ]
        }
      ],
      "source": [
        "a = 1\n",
        "if a > 0:\n",
        "\tprint('positive')\n",
        "elif a == 0:\n",
        "\tprint('zero')\n",
        "else:\n",
        "\tprint('negative')"
      ]
    },
    {
      "cell_type": "code",
      "execution_count": 268,
      "id": "27237130",
      "metadata": {
        "colab": {
          "base_uri": "https://localhost:8080/"
        },
        "id": "27237130",
        "outputId": "d0233376-3d92-46a2-a5e4-4c78a2fe4ee2"
      },
      "outputs": [
        {
          "name": "stdout",
          "output_type": "stream",
          "text": [
            "positive\n"
          ]
        }
      ],
      "source": [
        "a = 1\n",
        "\n",
        "if a >= 0:\n",
        "\tif a == 0:\n",
        "\t\tprint('zero')\n",
        "\telse:\n",
        "\t\tprint('positive')\n",
        "\n",
        "else:\n",
        "\tprint(\"negative\")"
      ]
    },
    {
      "cell_type": "markdown",
      "id": "cd0bb7c5",
      "metadata": {
        "id": "cd0bb7c5"
      },
      "source": [
        "### Control Flow: for-Loops (definite iterations)\n",
        "\n",
        "If all we were able to do with lists, tuples, and dictionaries was store data in them, they would essentially\n",
        "just be useful for organizing our code and nothing else.\n",
        "Luckily, we can iterate through them using \"for\" loops. The \"for\" loop\n",
        "has the following format:\n",
        "```python\n",
        "for [loop variable] in [iterable object]:\n",
        "\t[code to execute using loop variable]\n",
        "```"
      ]
    },
    {
      "cell_type": "code",
      "execution_count": 269,
      "id": "56b0d31c",
      "metadata": {
        "colab": {
          "base_uri": "https://localhost:8080/"
        },
        "id": "56b0d31c",
        "outputId": "cef95e26-c489-43ad-984a-53ef8bb006f1"
      },
      "outputs": [
        {
          "name": "stdout",
          "output_type": "stream",
          "text": [
            "H\n",
            "e\n",
            "l\n",
            "l\n",
            "o\n",
            ",\n",
            " \n",
            "W\n",
            "o\n",
            "r\n",
            "l\n",
            "d\n",
            "!\n"
          ]
        }
      ],
      "source": [
        "# simple for loop: print every character\n",
        "for ch in 'Hello, World!':\n",
        "\tprint(ch)"
      ]
    },
    {
      "cell_type": "code",
      "execution_count": 276,
      "id": "3R5BrSlA1_b8",
      "metadata": {
        "colab": {
          "base_uri": "https://localhost:8080/"
        },
        "id": "3R5BrSlA1_b8",
        "outputId": "b509c82e-d9d5-43b5-fde0-259158ab526d"
      },
      "outputs": [
        {
          "name": "stdout",
          "output_type": "stream",
          "text": [
            "84\n",
            "100\n",
            "12\n"
          ]
        }
      ],
      "source": [
        "course_marks = {'Linda': 84, 'Andrew': 100, 'Jasmine': 12}\n",
        "\n",
        "students = course_marks.keys()\n",
        "marks = course_marks.values()\n",
        "pass_mark = 85\n",
        "\n",
        "# print every grade\n",
        "for m in marks:\n",
        "\tprint(m)"
      ]
    },
    {
      "cell_type": "code",
      "execution_count": 277,
      "id": "75d025b6",
      "metadata": {
        "colab": {
          "base_uri": "https://localhost:8080/"
        },
        "id": "75d025b6",
        "outputId": "0b9a3bf9-d526-4b78-d0e1-e025f2825278"
      },
      "outputs": [
        {
          "name": "stdout",
          "output_type": "stream",
          "text": [
            "Linda\n",
            "Linda has passed\n",
            "Andrew\n",
            "Andrew has passed\n",
            "Jasmine\n",
            "Jasmine has not passed\n"
          ]
        }
      ],
      "source": [
        "course_marks = {'Linda': 84, 'Andrew': 100, 'Jasmine': 12}\n",
        "\n",
        "student_names = course_marks.keys()\n",
        "marks = course_marks.values()\n",
        "pass_mark = 80\n",
        "\n",
        "# for each student, print if they passed the course\n",
        "for student in student_names:\n",
        "\tprint(student)\n",
        "\t\n",
        "\tif course_marks[student] >= pass_mark:\n",
        "\t\tprint(student + ' has passed')\n",
        "\telse:\n",
        "\t\tprint(student + ' has not passed')"
      ]
    },
    {
      "cell_type": "code",
      "execution_count": 278,
      "id": "3d61ea3f",
      "metadata": {
        "id": "3d61ea3f"
      },
      "outputs": [],
      "source": [
        "animal_kingdom = [\n",
        "\t['Elephant', 'Tiger', 'Dog', ['Cat', 'Big Cat']],\n",
        "\t['Whale', 'Dolphin', 'Shark', 'Eel'],\n",
        "\t['Eagle', 'Robin']\n",
        "]"
      ]
    },
    {
      "cell_type": "code",
      "execution_count": 279,
      "id": "hwMAJIsUjGFs",
      "metadata": {
        "colab": {
          "base_uri": "https://localhost:8080/"
        },
        "id": "hwMAJIsUjGFs",
        "outputId": "5dc17b02-fa6f-4f2f-ce4c-287bbaf3383e"
      },
      "outputs": [
        {
          "name": "stdout",
          "output_type": "stream",
          "text": [
            "Elephant\n",
            "Tiger\n",
            "Dog\n",
            "Cat\n",
            "Big Cat\n",
            "Whale\n",
            "Dolphin\n",
            "Shark\n",
            "Eel\n",
            "Eagle\n",
            "Robin\n"
          ]
        }
      ],
      "source": [
        "# how can we print all animals one by one?\n",
        "for animal_list in animal_kingdom:\n",
        "\tfor animal_or_list in animal_list:\n",
        "\t\t# print(type(animal_or_list))\n",
        "\t\tif type(animal_or_list) == list:\n",
        "\t\t\tfor animal in animal_or_list:\n",
        "\t\t\t\tprint(animal)\n",
        "\t\telse:\n",
        "\t\t\tprint(animal_or_list)"
      ]
    },
    {
      "cell_type": "code",
      "execution_count": 280,
      "id": "RXVtXYdHjKv7",
      "metadata": {
        "colab": {
          "base_uri": "https://localhost:8080/"
        },
        "id": "RXVtXYdHjKv7",
        "outputId": "7a28fe79-3971-45f0-9c0b-d6376bda8913"
      },
      "outputs": [
        {
          "name": "stdout",
          "output_type": "stream",
          "text": [
            "100\n",
            "190\n",
            "285\n",
            "365\n",
            "435\n",
            "\n"
          ]
        },
        {
          "data": {
            "text/plain": [
              "435"
            ]
          },
          "execution_count": 280,
          "metadata": {},
          "output_type": "execute_result"
        }
      ],
      "source": [
        "# summing lists\n",
        "course_marks = [100, 90, 95, 80, 70]\n",
        "marks_sum = 0 # accumulator\n",
        "\n",
        "# add them all up with a loop\n",
        "for mark in course_marks:\n",
        "\tmarks_sum += mark\n",
        "\tprint(marks_sum)\n",
        "\n",
        "print()d\n",
        "marks_sum"
      ]
    },
    {
      "cell_type": "code",
      "execution_count": 281,
      "id": "12593187",
      "metadata": {
        "colab": {
          "base_uri": "https://localhost:8080/"
        },
        "id": "12593187",
        "outputId": "7bc1dc40-c4e0-4a42-b8aa-366302f99e50"
      },
      "outputs": [
        {
          "data": {
            "text/plain": [
              "[77, 95, 7]"
            ]
          },
          "execution_count": 281,
          "metadata": {},
          "output_type": "execute_result"
        }
      ],
      "source": [
        "# iterating through lists (or tuples) by their index\n",
        "# this is necessary to change values in a list\n",
        "course_marks = [82, 100, 12]\n",
        "\n",
        "# reduce each grade by 5\n",
        "for i in range(len(course_marks)):\n",
        "\tcourse_marks[i] -= 5\n",
        "\n",
        "course_marks"
      ]
    },
    {
      "cell_type": "code",
      "execution_count": 282,
      "id": "ge7djzuFjPKT",
      "metadata": {
        "colab": {
          "base_uri": "https://localhost:8080/"
        },
        "id": "ge7djzuFjPKT",
        "outputId": "02e5ab7c-9184-4239-be7c-7331903f5143"
      },
      "outputs": [
        {
          "name": "stdout",
          "output_type": "stream",
          "text": [
            "Linda\n",
            "Andrew\n",
            "Jasmine\n"
          ]
        }
      ],
      "source": [
        "course_marks = {'Linda': 72, 'Andrew': 100, 'Jasmine': 12}\n",
        "\n",
        "# iterating through dictionary keys\n",
        "for student in course_marks.keys():\n",
        "\tprint(student)"
      ]
    },
    {
      "cell_type": "code",
      "execution_count": 283,
      "id": "CSiJZ7mAegKx",
      "metadata": {
        "colab": {
          "base_uri": "https://localhost:8080/"
        },
        "id": "CSiJZ7mAegKx",
        "outputId": "02736958-06f0-4e5b-db69-a8faa2a05aa6"
      },
      "outputs": [
        {
          "name": "stdout",
          "output_type": "stream",
          "text": [
            "72\n",
            "100\n",
            "12\n"
          ]
        }
      ],
      "source": [
        "# iterating through dictionary values\n",
        "for val in course_marks.values():\n",
        "\tprint(val)"
      ]
    },
    {
      "cell_type": "code",
      "execution_count": 284,
      "id": "R8qbYlFnedF4",
      "metadata": {
        "colab": {
          "base_uri": "https://localhost:8080/"
        },
        "id": "R8qbYlFnedF4",
        "outputId": "0b29979d-0309-45f8-93fe-b51df42a9b43"
      },
      "outputs": [
        {
          "name": "stdout",
          "output_type": "stream",
          "text": [
            "Linda\n",
            "Andrew\n",
            "Jasmine\n"
          ]
        }
      ],
      "source": [
        "# what about iterating through a dictionary itself?\n",
        "for student in course_marks:\n",
        "\tprint(student)"
      ]
    },
    {
      "cell_type": "code",
      "execution_count": 285,
      "id": "ddcf3480",
      "metadata": {},
      "outputs": [
        {
          "name": "stdout",
          "output_type": "stream",
          "text": [
            "Linda 72\n",
            "Andrew 100\n",
            "Jasmine 12\n"
          ]
        }
      ],
      "source": [
        "# iterating through items\n",
        "for student, val in course_marks.items():\n",
        "\tprint(student, val)"
      ]
    },
    {
      "cell_type": "markdown",
      "id": "3b6d075b",
      "metadata": {
        "id": "3b6d075b"
      },
      "source": [
        "### Control Flow: While Loops (aka. indefinite iterations)\n",
        "\n",
        "- Sometimes, we don't want our loop to iteratate through the values of some data structure, but\n",
        "instead want it to execute until some condition is no longer met. For this, we use a \"while\" loop, which has the\n",
        "following format:\n",
        "\n",
        "```python\n",
        "while [boolean expression]: #starts with a while keyword, followed by a test condition, ends with a colon :\n",
        "\t[what you want to do each iteration] #loop body contains code that gets repeated. Must be indented 4 spaces.\n",
        "```"
      ]
    },
    {
      "cell_type": "code",
      "execution_count": 286,
      "id": "fL_xYIpmjY8s",
      "metadata": {
        "colab": {
          "base_uri": "https://localhost:8080/"
        },
        "id": "fL_xYIpmjY8s",
        "outputId": "495e6f83-6693-4103-9e41-467208a9ee86"
      },
      "outputs": [
        {
          "name": "stdout",
          "output_type": "stream",
          "text": [
            "10\n",
            "9\n",
            "8\n",
            "7\n",
            "6\n",
            "5\n",
            "4\n",
            "3\n",
            "2\n",
            "1\n",
            "0\n"
          ]
        }
      ],
      "source": [
        "# simple\n",
        "n = 10\n",
        "# print all numbers from n to 0\n",
        "while n >= 0:\n",
        "\tprint(n)\n",
        "\tn -= 1"
      ]
    },
    {
      "cell_type": "code",
      "execution_count": null,
      "id": "4a10355d",
      "metadata": {
        "id": "4a10355d"
      },
      "outputs": [],
      "source": [
        "# BE CAREFUL with INFINITE LOOPS, you'll break your computer and end up in the matrix\n",
        "# can be useful, for example with code that interacts with hardware\n",
        "# may use an infinite loop to constantly check whether a button or switch has been activated\n",
        "\n",
        "# CTRL + C forces a command line process to quit"
      ]
    },
    {
      "cell_type": "code",
      "execution_count": null,
      "id": "bYI5yYzt-PIX",
      "metadata": {
        "id": "bYI5yYzt-PIX"
      },
      "outputs": [],
      "source": [
        "# while True:\n",
        "#   print('infinite loop!')"
      ]
    },
    {
      "cell_type": "code",
      "execution_count": 287,
      "id": "836fd3ae",
      "metadata": {},
      "outputs": [
        {
          "name": "stdout",
          "output_type": "stream",
          "text": [
            "0\n",
            "1\n",
            "2\n",
            "3\n",
            "4\n"
          ]
        }
      ],
      "source": [
        "# break out of the loop with the break statement\n",
        "i = 0\n",
        "while True:\n",
        "\tprint(i)\n",
        "\ti += 1\n",
        "\tif i == 5:\n",
        "\t\tbreak"
      ]
    },
    {
      "cell_type": "markdown",
      "id": "642ce2a5",
      "metadata": {
        "id": "642ce2a5"
      },
      "source": [
        "***"
      ]
    },
    {
      "cell_type": "markdown",
      "id": "f0b96613",
      "metadata": {
        "id": "f0b96613"
      },
      "source": [
        "### Cooking Challenge\n",
        "\n",
        "Alberto is making spaghetti tonight and he needs to make sure that if he doesn't have enough of the ingredients in his pantry, he adds them to his shopping list.\n",
        "\n",
        "- For each item in the recipe, check if the ingredient is in Alberto's pantry.\n",
        "\n",
        "- If the recipe ingredient is in the pantry, check if the recipe requires more of the ingredient than what Alberto has in storage. If so, add the name and the quantity he needs to purchase as key-value pairs in the dictionary shopping_list.\n",
        "\n",
        "- If the recipe item is not in the pantry, add the ingredient and the quantity as **key-value pairs in the dictionary** shopping_list."
      ]
    },
    {
      "cell_type": "code",
      "execution_count": 111,
      "id": "26551f64",
      "metadata": {
        "id": "26551f64"
      },
      "outputs": [],
      "source": [
        "pantry = {\n",
        "\t\t'pasta': 3, 'garlic': 4, 'sauce': 2,\n",
        "\t\t'basil': 2, 'salt': 3, 'olive oil': 3,\n",
        "\t\t'rice': 3, 'bread': 3, 'peanut butter': 1,\n",
        "\t\t'flour': 1, 'eggs': 1, 'onions': 1, 'mushrooms': 3,\n",
        "\t\t'broccoli': 2, 'butter': 2,'pickles': 6, 'milk': 2,\n",
        "\t\t'chia seeds': 5\n",
        "\t}\n",
        "\n",
        "meal_recipe = {\n",
        "\t\t'pasta': 2, 'garlic': 2, 'sauce': 3,\n",
        "\t\t'basil': 4, 'salt': 1, 'pepper': 2,\n",
        "\t\t'olive oil': 2, 'onions': 2, 'mushrooms': 6\n",
        "\t}\n",
        "\n",
        "\n",
        "shopping_list = dict()"
      ]
    },
    {
      "cell_type": "markdown",
      "id": "f30f530f",
      "metadata": {
        "id": "f30f530f"
      },
      "source": [
        "```\n",
        "1. You have a meal recipe and you have a pantry.\n",
        "2. You read item by item in the meal recipe.\n",
        "3. FOR each item, you verify IF you have the item in your pantry.\n",
        "\t3a. IF you meet the previous condition, you verify IF you have enough of that item.\n",
        "4. ELSE you add the amount of ingredient that you need to your shopping list.\n",
        "```"
      ]
    },
    {
      "cell_type": "code",
      "execution_count": 288,
      "id": "550469b1",
      "metadata": {
        "id": "550469b1"
      },
      "outputs": [],
      "source": [
        "### Solution\n",
        "for item in meal_recipe.keys():\n",
        "\tneeded_amount = meal_recipe[item]\n",
        "\t# check if item is in pantry\n",
        "\tif item in pantry.keys():\n",
        "\t\t# check if we have enough\n",
        "\t\tpantry_amount = pantry[item]\n",
        "\t\tdifference = needed_amount - pantry_amount\n",
        "\t\tif difference > 0:\n",
        "\t\t\t# we need to buy that difference\n",
        "\t\t\tshopping_list[item] = difference\n",
        "\telse:\n",
        "\t\t# we don't have this item\n",
        "\t\tshopping_list[item] = needed_amount"
      ]
    },
    {
      "cell_type": "code",
      "execution_count": 289,
      "id": "B_lx0NeNV3OQ",
      "metadata": {
        "colab": {
          "base_uri": "https://localhost:8080/"
        },
        "id": "B_lx0NeNV3OQ",
        "outputId": "d60262da-131d-4b43-e94e-c98fc6da6daa"
      },
      "outputs": [
        {
          "data": {
            "text/plain": [
              "{'sauce': 1, 'basil': 2, 'pepper': 2, 'onions': 1, 'mushrooms': 3}"
            ]
          },
          "execution_count": 289,
          "metadata": {},
          "output_type": "execute_result"
        }
      ],
      "source": [
        "shopping_list"
      ]
    },
    {
      "cell_type": "markdown",
      "id": "f83e8da1",
      "metadata": {},
      "source": [
        "***"
      ]
    },
    {
      "cell_type": "markdown",
      "id": "e771201f",
      "metadata": {},
      "source": [
        "### Prison Break\n",
        "\n",
        "- A prison cellblock can be represented as a list of cells. Each cell contains exactly one prisoner. A 1 represents an unlocked cell and a 0 represents a locked cell.\n",
        "\n",
        "- Starting from the leftmost cell, you are tasked with seeing how many prisoners you can set free, with a catch. Each time you free a prisoner, the locked cells become unlocked, and the unlocked cells become locked again.\n",
        "\n",
        "#### Detailed Example:\n",
        "\n",
        "```python\n",
        "[1, 1, 0, 0, 0, 1, 0]\n",
        "# You free the prisoner in the 1st cell.\n",
        "\n",
        "[0, 0, 1, 1, 1, 0, 1]\n",
        "# You free the prisoner in the 3rd cell (2nd one locked).\n",
        "\n",
        "[1, 1, 0, 0, 0, 1, 0]\n",
        "# You free the prisoner in the 6th cell (3rd, 4th and 5th locked).\n",
        "\n",
        "[0, 0, 1, 1, 1, 0, 1]\n",
        "# You free the prisoner in the 7th cell - and you are done!\n",
        "```\n",
        "\n",
        "- Here, we have freed 4 prisoners in total.\n",
        "\n",
        "- Create a function that, given this unique prison arrangement, returns the number of freed prisoners.\n",
        "\n",
        "#### Examples:\n",
        "\n",
        "```python\n",
        "freed_prisoners([1, 1, 0, 0, 0, 1, 0]) ➞ 4\n",
        "freed_prisoners([1, 1, 1]) ➞ 1\n",
        "freed_prisoners([0, 0, 0]) ➞ 0\n",
        "freed_prisoners([0, 1, 1, 1]) ➞ 1\n",
        "```\n",
        "\n",
        "#### Notes\n",
        "\n",
        "- You must free a prisoner in order for the locks to switch. So in second example where the input is [1, 1, 1], after you release the first prisoner, the locks change to [0, 0, 0]. Since all cells are locked, you can release no more prisoners.\n",
        "\n",
        "- You always start with the leftmost element in the list (the first prison cell). If all the prison cells to your right are zeroes, you cannot free any more prisoners."
      ]
    },
    {
      "cell_type": "markdown",
      "id": "c7140f4c",
      "metadata": {},
      "source": [
        "### Please send me your solution on discord.  Use the test cases above to test it and remember that the answer must be returned at the end of the function.\n",
        "\n",
        "```python\n",
        "def freed_prisoners(cellblock):\n",
        "\n",
        "\treturn answer\n",
        "```"
      ]
    }
  ],
  "metadata": {
    "colab": {
      "provenance": []
    },
    "kernelspec": {
      "display_name": "Python 3",
      "language": "python",
      "name": "python3"
    },
    "language_info": {
      "codemirror_mode": {
        "name": "ipython",
        "version": 3
      },
      "file_extension": ".py",
      "mimetype": "text/x-python",
      "name": "python",
      "nbconvert_exporter": "python",
      "pygments_lexer": "ipython3",
      "version": "3.11.9"
    }
  },
  "nbformat": 4,
  "nbformat_minor": 5
}
